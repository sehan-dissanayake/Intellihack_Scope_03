{
 "cells": [
  {
   "cell_type": "markdown",
   "metadata": {},
   "source": [
    "# Setup and Data Exploration - Intellihack Scope 03\n",
    "\n",
    "This notebook focuses on setting up the environment and exploring the q3_dataset containing technical documentation on AI research topics."
   ]
  },
  {
   "cell_type": "code",
   "execution_count": 1,
   "metadata": {},
   "outputs": [
    {
     "ename": "ModuleNotFoundError",
     "evalue": "No module named 'torch'",
     "output_type": "error",
     "traceback": [
      "\u001b[0;31m---------------------------------------------------------------------------\u001b[0m",
      "\u001b[0;31mModuleNotFoundError\u001b[0m                       Traceback (most recent call last)",
      "Cell \u001b[0;32mIn[1], line 10\u001b[0m\n\u001b[1;32m      7\u001b[0m \u001b[38;5;28;01mfrom\u001b[39;00m\u001b[38;5;250m \u001b[39m\u001b[38;5;21;01mpathlib\u001b[39;00m\u001b[38;5;250m \u001b[39m\u001b[38;5;28;01mimport\u001b[39;00m Path\n\u001b[1;32m      9\u001b[0m \u001b[38;5;66;03m# Check if CUDA is available\u001b[39;00m\n\u001b[0;32m---> 10\u001b[0m \u001b[38;5;28;01mimport\u001b[39;00m\u001b[38;5;250m \u001b[39m\u001b[38;5;21;01mtorch\u001b[39;00m\n\u001b[1;32m     11\u001b[0m \u001b[38;5;28mprint\u001b[39m(\u001b[38;5;124mf\u001b[39m\u001b[38;5;124m\"\u001b[39m\u001b[38;5;124mCUDA available: \u001b[39m\u001b[38;5;132;01m{\u001b[39;00mtorch\u001b[38;5;241m.\u001b[39mcuda\u001b[38;5;241m.\u001b[39mis_available()\u001b[38;5;132;01m}\u001b[39;00m\u001b[38;5;124m\"\u001b[39m)\n\u001b[1;32m     12\u001b[0m \u001b[38;5;28;01mif\u001b[39;00m torch\u001b[38;5;241m.\u001b[39mcuda\u001b[38;5;241m.\u001b[39mis_available():\n",
      "\u001b[0;31mModuleNotFoundError\u001b[0m: No module named 'torch'"
     ]
    }
   ],
   "source": [
    "# Import necessary libraries\n",
    "import os\n",
    "import pandas as pd\n",
    "import numpy as np\n",
    "import matplotlib.pyplot as plt\n",
    "import re\n",
    "from pathlib import Path\n",
    "\n",
    "# Check if CUDA is available\n",
    "import torch\n",
    "print(f\"CUDA available: {torch.cuda.is_available()}\")\n",
    "if torch.cuda.is_available():\n",
    "    print(f\"CUDA device name: {torch.cuda.get_device_name()}\")"
   ]
  },
  {
   "cell_type": "markdown",
   "metadata": {},
   "source": [
    "## Dataset Exploration\n",
    "\n",
    "Let's examine the technical documentation provided in the q3_dataset folder."
   ]
  },
  {
   "cell_type": "code",
   "execution_count": null,
   "metadata": {},
   "outputs": [],
   "source": [
    "# Define path to the dataset\n",
    "data_dir = Path('../data/raw')\n",
    "\n",
    "# List all files\n",
    "files = list(data_dir.glob('**/*.md')) + list(data_dir.glob('**/*.txt'))\n",
    "print(f\"Found {len(files)} files in the dataset.\")\n",
    "\n",
    "# Get basic stats about each file\n",
    "file_stats = []\n",
    "for file in files:\n",
    "    with open(file, 'r', encoding='utf-8') as f:\n",
    "        content = f.read()\n",
    "        word_count = len(content.split())\n",
    "        file_stats.append({\n",
    "            'filename': file.name,\n",
    "            'path': str(file),\n",
    "            'size_kb': file.stat().st_size / 1024,\n",
    "            'word_count': word_count\n",
    "        })\n",
    "\n",
    "# Convert to DataFrame for better visualization\n",
    "stats_df = pd.DataFrame(file_stats)\n",
    "stats_df"
   ]
  },
  {
   "cell_type": "markdown",
   "metadata": {},
   "source": [
    "## Key Technical Topics\n",
    "\n",
    "Based on the dataset, the following key topics need to be learned by our model:\n",
    "- DualPipe (bidirectional pipeline parallelism)\n",
    "- DeepSeek-V3 model architecture\n",
    "- Fire-Flyer File System (3FS)\n",
    "- Expert Parallelism Load Balancing (EPLB)"
   ]
  },
  {
   "cell_type": "code",
   "execution_count": null,
   "metadata": {},
   "outputs": [],
   "source": [
    "# Sample content from one document to understand its structure\n",
    "sample_file = files[0]  # Change index to explore different files\n",
    "with open(sample_file, 'r', encoding='utf-8') as f:\n",
    "    content = f.read()\n",
    "    \n",
    "print(f\"Sample content from {sample_file.name}:\")\n",
    "print(\"=\"*80)\n",
    "print(content[:1500], \"...\")\n",
    "print(\"=\"*80)"
   ]
  },
  {
   "cell_type": "markdown",
   "metadata": {},
   "source": [
    "## Next Steps\n",
    "\n",
    "Based on this exploration:\n",
    "1. We need to process these technical documents and extract meaningful chunks\n",
    "2. Generate QA pairs covering the technical topics\n",
    "3. Prepare for fine-tuning the Qwen 2.5-3B model"
   ]
  }
 ],
 "metadata": {
  "kernelspec": {
   "display_name": "Python 3 (ipykernel)",
   "language": "python",
   "name": "python3"
  },
  "language_info": {
   "codemirror_mode": {
    "name": "ipython",
    "version": 3
   },
   "file_extension": ".py",
   "mimetype": "text/x-python",
   "name": "python",
   "nbconvert_exporter": "python",
   "pygments_lexer": "ipython3",
   "version": "3.13.1"
  }
 },
 "nbformat": 4,
 "nbformat_minor": 4
}
